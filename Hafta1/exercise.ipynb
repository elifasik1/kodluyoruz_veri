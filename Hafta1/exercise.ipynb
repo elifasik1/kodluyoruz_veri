{
 "cells": [
  {
   "cell_type": "code",
   "execution_count": null,
   "id": "ca59fbe6",
   "metadata": {},
   "outputs": [
    {
     "name": "stdout",
     "output_type": "stream",
     "text": [
      "3\n"
     ]
    }
   ],
   "source": [
    "# Ödev 1 dönüşümler\n",
    "x = 3\n",
    "type(x)\n",
    "print(x)"
   ]
  },
  {
   "cell_type": "code",
   "execution_count": 5,
   "id": "32108bb7",
   "metadata": {},
   "outputs": [
    {
     "name": "stdout",
     "output_type": "stream",
     "text": [
      "3.0\n"
     ]
    }
   ],
   "source": [
    "b = float(x)\n",
    "type(b)\n",
    "print(b)"
   ]
  },
  {
   "cell_type": "code",
   "execution_count": 8,
   "id": "d7b93fc9",
   "metadata": {},
   "outputs": [
    {
     "name": "stdout",
     "output_type": "stream",
     "text": [
      "4.5\n",
      "4\n"
     ]
    }
   ],
   "source": [
    "y = 4.5\n",
    "print(y)\n",
    "z= int(y)\n",
    "print(z)"
   ]
  },
  {
   "cell_type": "code",
   "execution_count": null,
   "id": "2e3b73fc",
   "metadata": {},
   "outputs": [
    {
     "name": "stdout",
     "output_type": "stream",
     "text": [
      "8\n",
      "8\n"
     ]
    },
    {
     "data": {
      "text/plain": [
       "int"
      ]
     },
     "execution_count": 9,
     "metadata": {},
     "output_type": "execute_result"
    }
   ],
   "source": [
    "z = \"8\"\n",
    "print(z)\n",
    "k = int(z)\n",
    "print(k)\n",
    "type(k)\n"
   ]
  },
  {
   "cell_type": "code",
   "execution_count": 10,
   "id": "e1a71b5a",
   "metadata": {},
   "outputs": [
    {
     "name": "stdout",
     "output_type": "stream",
     "text": [
      "12\n",
      "12.0\n"
     ]
    }
   ],
   "source": [
    "a=\"12\"\n",
    "print(a)\n",
    "l= float(a)\n",
    "print(l)"
   ]
  },
  {
   "cell_type": "code",
   "execution_count": 13,
   "id": "5cbc927f",
   "metadata": {},
   "outputs": [
    {
     "name": "stdout",
     "output_type": "stream",
     "text": [
      "46.8\n"
     ]
    },
    {
     "ename": "ValueError",
     "evalue": "invalid literal for int() with base 10: '46.8'",
     "output_type": "error",
     "traceback": [
      "\u001b[31m---------------------------------------------------------------------------\u001b[39m",
      "\u001b[31mValueError\u001b[39m                                Traceback (most recent call last)",
      "\u001b[36mCell\u001b[39m\u001b[36m \u001b[39m\u001b[32mIn[13]\u001b[39m\u001b[32m, line 3\u001b[39m\n\u001b[32m      1\u001b[39m b= \u001b[33m\"\u001b[39m\u001b[33m46.8\u001b[39m\u001b[33m\"\u001b[39m\n\u001b[32m      2\u001b[39m \u001b[38;5;28mprint\u001b[39m(b)\n\u001b[32m----> \u001b[39m\u001b[32m3\u001b[39m c =\u001b[38;5;28;43mint\u001b[39;49m\u001b[43m(\u001b[49m\u001b[43mb\u001b[49m\u001b[43m)\u001b[49m \u001b[38;5;66;03m# string olan float yapısı inte dönmez\u001b[39;00m\n\u001b[32m      4\u001b[39m \u001b[38;5;28mprint\u001b[39m(b)\n",
      "\u001b[31mValueError\u001b[39m: invalid literal for int() with base 10: '46.8'"
     ]
    }
   ],
   "source": [
    "b= \"46.8\"\n",
    "print(b)\n",
    "c =int(b) # string olan float yapısı inte dönmez\n",
    "print(b)"
   ]
  },
  {
   "cell_type": "code",
   "execution_count": 15,
   "id": "446dccf9",
   "metadata": {},
   "outputs": [
    {
     "name": "stdout",
     "output_type": "stream",
     "text": [
      "False\n",
      "False\n",
      "False\n",
      "False\n",
      "True\n",
      "True\n",
      "True\n",
      "False\n",
      "False\n"
     ]
    }
   ],
   "source": [
    "#Soru 2\n",
    "ad1 = 14\n",
    "ad2 = 20\n",
    "ad3= 13\n",
    "print(ad1==ad2)\n",
    "print(ad2==ad3)\n",
    "print(ad1==ad3)\n",
    "print(ad1>ad2)\n",
    "print(ad2>ad3)\n",
    "print(ad1>ad3)\n",
    "print(ad1<ad2)\n",
    "print(ad2<ad3)\n",
    "print(ad1<ad3)\n"
   ]
  },
  {
   "cell_type": "code",
   "execution_count": null,
   "id": "034d9091",
   "metadata": {},
   "outputs": [
    {
     "name": "stdout",
     "output_type": "stream",
     "text": [
      "a+b= 15\n",
      "a-b= 5\n",
      "a*b= 50\n",
      "a/b= 2.0\n"
     ]
    }
   ],
   "source": [
    "#Soru 3\n",
    "a= input(\"Bir sayı giriniz\")\n",
    "c = int(a)\n",
    "b=input(\"Bir sayı daha  giriniz\")\n",
    "d=int(b)\n",
    "print(\"a+b=\",c+d)\n",
    "print(\"a-b=\",c-d)\n",
    "print(\"a*b=\",c*d)\n",
    "print(\"a/b=\",c/d)\n"
   ]
  },
  {
   "cell_type": "code",
   "execution_count": null,
   "id": "c2816bab",
   "metadata": {},
   "outputs": [
    {
     "name": "stdout",
     "output_type": "stream",
     "text": [
      "Ad: Elif  Yaş:  22  Şehir:  hatay  Meslek:  mühendis\n"
     ]
    }
   ],
   "source": [
    "#Soru 4\n",
    "name = input(\"Adınız:\")\n",
    "age = input(\"Yaşınız:\")\n",
    "city =input(\"Şehir:\")\n",
    "job= input(\"Meslek\")\n",
    "print(\"Ad:\",name,\" Yaş: \",age,\" Şehir: \",city,\" Meslek: \",job)\n",
    "\n",
    "\n"
   ]
  },
  {
   "cell_type": "code",
   "execution_count": null,
   "id": "f20d46f7",
   "metadata": {},
   "outputs": [
    {
     "name": "stdout",
     "output_type": "stream",
     "text": [
      "['Hi-Kod', 'Veri', 'Bilimi', 'Atölyesi']\n"
     ]
    }
   ],
   "source": [
    "#soru 5\n",
    "x =\"Hi-Kod Veri Bilimi Atölyesi\"\n",
    "kelime = x.split()\n",
    "print(kelime)"
   ]
  },
  {
   "cell_type": "code",
   "execution_count": 23,
   "id": "357485ec",
   "metadata": {},
   "outputs": [
    {
     "name": "stdout",
     "output_type": "stream",
     "text": [
      "hi-kod veri bilimi atölyesi\n",
      "HI-KOD VERI BILIMI ATÖLYESI\n"
     ]
    }
   ],
   "source": [
    "y= x.lower()\n",
    "print(y)\n",
    "z = x.upper()\n",
    "print(z)"
   ]
  },
  {
   "cell_type": "code",
   "execution_count": 26,
   "id": "732ad0df",
   "metadata": {},
   "outputs": [
    {
     "name": "stdout",
     "output_type": "stream",
     "text": [
      "('02468', '13579')\n"
     ]
    }
   ],
   "source": [
    "x = \"0123456789\"\n",
    "cift=x[0] + x[2]+ x[4]+x[6]+x[8]\n",
    "tek = x[1]+x[3]+x[5]+x[7]+x[9]\n",
    "print((cift , tek))"
   ]
  },
  {
   "cell_type": "code",
   "execution_count": null,
   "id": "ee3f0f75",
   "metadata": {},
   "outputs": [],
   "source": []
  }
 ],
 "metadata": {
  "kernelspec": {
   "display_name": "yeni_ortam",
   "language": "python",
   "name": "python3"
  },
  "language_info": {
   "codemirror_mode": {
    "name": "ipython",
    "version": 3
   },
   "file_extension": ".py",
   "mimetype": "text/x-python",
   "name": "python",
   "nbconvert_exporter": "python",
   "pygments_lexer": "ipython3",
   "version": "3.12.9"
  }
 },
 "nbformat": 4,
 "nbformat_minor": 5
}
