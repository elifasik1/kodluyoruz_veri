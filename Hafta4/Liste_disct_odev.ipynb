{
 "cells": [
  {
   "cell_type": "markdown",
   "metadata": {
    "id": "tE9ZjH5lQn2-"
   },
   "source": [
    "### Ödev 1\n",
    "\n",
    "liste = [\"Python\",True,9,\"3\",8.4,\"Hi-Kod\",\"False\",4.7]\n",
    "\n",
    "1. Aşağıdaki işlemleri indexing ve slicing kullanarak liste üzerinde uygulayın.\n",
    "\n",
    "   - \"3\" değerine ulaşmak için indexleme yapın.\n",
    "   - \"Hi-Kod\" değerine ulaşmak için indexleme yapın.\n",
    "   - 4.7 değerine ulaşmak için indexleme yapın.\n",
    "   - 9,\"3\",8.4,\"Hi-Kod\" değerlerine ulaşmak için slicing yapın.\n",
    "   - 8.4,\"Hi-Kod\",\"False\",4.7 değerlerine ulaşmak için slicing yapın."
   ]
  },
  {
   "cell_type": "code",
   "execution_count": 2,
   "metadata": {
    "id": "AhOkYXjIQn3E"
   },
   "outputs": [
    {
     "name": "stdout",
     "output_type": "stream",
     "text": [
      "3\n",
      "Hi-Kod\n",
      "4.7\n",
      "[9, '3', 8.4, 'Hi-Kod']\n",
      "[8.4, 'Hi-Kod', 'False', 4.7]\n"
     ]
    }
   ],
   "source": [
    "liste = [\"Python\", True, 9, \"3\", 8.4, \"Hi-Kod\", \"False\", 4.7]\n",
    "\n",
    "print(liste[3])  # Çıktı: \"3\"\n",
    "print(liste[5])  # Çıktı: \"Hi-Kod\"\n",
    "print(liste[7])  # Çıktı: 4.7\n",
    "print(liste[2:6])  # Çıktı: [9, \"3\", 8.4, \"Hi-Kod\"]\n",
    "print(liste[4:])  # Çıktı: [8.4, \"Hi-Kod\", \"False\", 4.7]\n",
    "\n"
   ]
  },
  {
   "cell_type": "markdown",
   "metadata": {
    "id": "PU_vatZVQn3E"
   },
   "source": [
    "### Ödev 2\n",
    "\n",
    "Verilen listede bulunan string veri tipindeki öğeleri yeni_liste isimli listeye eklenir.\n",
    "\n",
    "liste = [\"Python\",True,9,\"3\",8.4,\"Hi-Kod\",\"False\",4.7]"
   ]
  },
  {
   "cell_type": "code",
   "execution_count": 3,
   "metadata": {
    "id": "k036-a4qQn3F"
   },
   "outputs": [
    {
     "name": "stdout",
     "output_type": "stream",
     "text": [
      "String içeren yeni liste: ['Python', '3', 'Hi-Kod', 'False']\n"
     ]
    }
   ],
   "source": [
    "liste = [\"Python\", True, 9, \"3\", 8.4, \"Hi-Kod\", \"False\", 4.7]\n",
    "yeni_liste = []\n",
    "\n",
    "for eleman in liste:\n",
    "    if type(eleman) == str:\n",
    "        yeni_liste.append(eleman)\n",
    "\n",
    "print(\"String içeren yeni liste:\", yeni_liste)\n"
   ]
  },
  {
   "cell_type": "markdown",
   "metadata": {
    "id": "LKspMidRQn3G"
   },
   "source": [
    "### Ödev 3\n",
    "\n",
    "Enumerate methodunu araştırın ve aşağıdaki örneği enumerate methodu ile yapın."
   ]
  },
  {
   "cell_type": "code",
   "execution_count": 7,
   "metadata": {
    "id": "uKwshjmAQn3G"
   },
   "outputs": [
    {
     "name": "stdout",
     "output_type": "stream",
     "text": [
      "1. sıradaki meyve: elma\n",
      "2. sıradaki meyve: armut\n",
      "3. sıradaki meyve: muz\n",
      "4. sıradaki meyve: çilek\n"
     ]
    }
   ],
   "source": [
    "for index, meyve in enumerate(meyveler, start=1):\n",
    "    print(\"{}. sıradaki meyve: {}\".format(index, meyve))\n",
    "    "
   ]
  },
  {
   "cell_type": "markdown",
   "metadata": {
    "id": "ZmwK7TWhQn3H"
   },
   "source": []
  },
  {
   "cell_type": "markdown",
   "metadata": {
    "id": "M_DfcqxXQubL"
   },
   "source": [
    "## Sozluk"
   ]
  },
  {
   "cell_type": "markdown",
   "metadata": {
    "id": "ZMXFFucEQxxD"
   },
   "source": [
    "1. Bir sözlük oluşturulur ve bu sözlükte öğrencilerin isimleri ve Matematik, Fizik, Kimya notları tutulur. Kullanıcıdan isim ve ders ismi(Matematik, Fizik, Kimya) istenir ve bu bilgilere göre çıktı verilir."
   ]
  },
  {
   "cell_type": "markdown",
   "metadata": {
    "id": "8NJYTepzQ13V"
   },
   "source": [
    "2. Sözlük üzerinde değerleri değiştirme, yeni değer ekleme, kullanıcıya ulaşmak istediği bilgileri sorma gibi uygulamalar yapın."
   ]
  },
  {
   "cell_type": "code",
   "execution_count": null,
   "metadata": {
    "id": "Sl7EK7FDQsW1"
   },
   "outputs": [
    {
     "name": "stdout",
     "output_type": "stream",
     "text": [
      "\n",
      "--- Menü ---\n",
      "1. Notları Sorgula\n",
      "2. Not Güncelle\n",
      "3. Yeni Öğrenci Ekle\n",
      "4. Çıkış\n"
     ]
    }
   ],
   "source": [
    "# Başlangıç sözlüğü\n",
    "notlar = {\n",
    "    \"Elif\": {\"Matematik\": 85, \"Fizik\": 90, \"Kimya\": 88},\n",
    "    \"Ahmet\": {\"Matematik\": 70, \"Fizik\": 75, \"Kimya\": 80}\n",
    "}\n",
    "\n",
    "def bilgi_sorgula():\n",
    "    isim = input(\"Öğrencinin ismini girin: \")\n",
    "    ders = input(\"Hangi dersin notunu görmek istiyorsunuz? (Matematik, Fizik, Kimya): \")\n",
    "    \n",
    "    if isim in notlar:\n",
    "        if ders in notlar[isim]:\n",
    "            print(f\"{isim} adlı öğrencinin {ders} notu: {notlar[isim][ders]}\")\n",
    "        else:\n",
    "            print(f\"{isim} öğrencisinin {ders} dersi için not bulunamadı.\")\n",
    "    else:\n",
    "        print(\"Bu isimde bir öğrenci bulunamadı.\")\n",
    "\n",
    "def not_guncelle():\n",
    "    isim = input(\"Notunu güncellemek istediğiniz öğrencinin adı: \")\n",
    "    ders = input(\"Hangi dersin notunu güncellemek istiyorsunuz? \")\n",
    "    yeni_not = int(input(f\"{isim} öğrencisinin {ders} notunu girin: \"))\n",
    "    \n",
    "    if isim in notlar:\n",
    "        notlar[isim][ders] = yeni_not\n",
    "        print(f\"{isim} öğrencisinin {ders} notu güncellendi: {yeni_not}\")\n",
    "    else:\n",
    "        print(\"Öğrenci bulunamadı. Önce öğrenci ekleyin.\")\n",
    "\n",
    "def ogrenci_ekle():\n",
    "    isim = input(\"Yeni öğrencinin adı: \")\n",
    "    mat = int(input(\"Matematik notu: \"))\n",
    "    fizik = int(input(\"Fizik notu: \"))\n",
    "    kimya = int(input(\"Kimya notu: \"))\n",
    "    notlar[isim] = {\"Matematik\": mat, \"Fizik\": fizik, \"Kimya\": kimya}\n",
    "    print(f\"{isim} adlı öğrenci başarıyla eklendi.\")\n",
    "\n",
    "# Menü\n",
    "while True:\n",
    "    print(\"\\n--- Menü ---\")\n",
    "    print(\"1. Notları Sorgula\")\n",
    "    print(\"2. Not Güncelle\")\n",
    "    print(\"3. Yeni Öğrenci Ekle\")\n",
    "    print(\"4. Çıkış\")\n",
    "    \n",
    "    secim = input(\"Bir işlem seçin (1-4): \")\n",
    "    \n",
    "    if secim == \"1\":\n",
    "        bilgi_sorgula()\n",
    "    elif secim == \"2\":\n",
    "        not_guncelle()\n",
    "    elif secim == \"3\":\n",
    "        ogrenci_ekle()\n",
    "    elif secim == \"4\":\n",
    "        print(\"Çıkış yapılıyor...\")\n",
    "        break\n",
    "    else:\n",
    "        print(\"Geçersiz seçim, tekrar deneyin.\")"
   ]
  },
  {
   "cell_type": "code",
   "execution_count": null,
   "metadata": {},
   "outputs": [],
   "source": []
  }
 ],
 "metadata": {
  "colab": {
   "provenance": []
  },
  "kernelspec": {
   "display_name": "yeni_ortam",
   "language": "python",
   "name": "python3"
  },
  "language_info": {
   "codemirror_mode": {
    "name": "ipython",
    "version": 3
   },
   "file_extension": ".py",
   "mimetype": "text/x-python",
   "name": "python",
   "nbconvert_exporter": "python",
   "pygments_lexer": "ipython3",
   "version": "3.12.9"
  }
 },
 "nbformat": 4,
 "nbformat_minor": 0
}
