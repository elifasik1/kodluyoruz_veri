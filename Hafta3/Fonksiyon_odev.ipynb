{
 "cells": [
  {
   "cell_type": "markdown",
   "metadata": {},
   "source": [
    "#### Ödev 1\n",
    "Kullanıcıdan pi değeri ve yarıçap bilgisi alarak dairenin alanını hesaplayan bir fonksiyon oluşturulur."
   ]
  },
  {
   "cell_type": "code",
   "execution_count": 1,
   "metadata": {},
   "outputs": [
    {
     "name": "stdout",
     "output_type": "stream",
     "text": [
      "Pi degeri :  3.14 \n",
      "Yarıçap degeri :  5.00\n",
      "Alan :  78.50 \n"
     ]
    }
   ],
   "source": [
    "pi = float(input(\"Pi değerini giriniz :\"))\n",
    "r = float(input(\"Yarıçap degerini giriniz :\"))\n",
    "alan = pi * r * r \n",
    "print(f\"Pi degeri : {pi : .2f} \\nYarıçap degeri : {r : .2f}\\nAlan : {alan : .2f} \")"
   ]
  },
  {
   "cell_type": "markdown",
   "metadata": {},
   "source": [
    "#### Ödev 2\n",
    "\n",
    "Faktöriyel adında fonksiyon oluşturulur. Döngü kullanarak parametre olarak girilen sayının faktöriyeli hesaplanır. Format metodunu kullanılarak ekrana yazdırılır."
   ]
  },
  {
   "cell_type": "code",
   "execution_count": 8,
   "metadata": {},
   "outputs": [
    {
     "name": "stdout",
     "output_type": "stream",
     "text": [
      "Girilen sayının faktöriyeli: 5! = 120\n"
     ]
    }
   ],
   "source": [
    "# Faktöriyel hesaplayan fonksiyon tanımı\n",
    "def faktoriyel(sayi):\n",
    "    sonuc = 1\n",
    "    for i in range(1, sayi + 1):\n",
    "        sonuc *= i\n",
    "    print(\"Girilen sayının faktöriyeli: {}! = {}\".format(sayi, sonuc))\n",
    "# Fonksiyonu çağırmadan önce tanımlanmalı\n",
    "sayi = int(input(\"Faktöriyeli hesaplanacak sayıyı girin: \"))\n",
    "faktoriyel(sayi)    "
   ]
  },
  {
   "cell_type": "markdown",
   "metadata": {},
   "source": [
    "#### Ödev 3\n",
    "Kişinin fonksiyona doğum yılını vererek kaç yaşında olduğunu hesaplayan bir fonksiyon oluşturun. "
   ]
  },
  {
   "cell_type": "code",
   "execution_count": 12,
   "metadata": {},
   "outputs": [
    {
     "name": "stdout",
     "output_type": "stream",
     "text": [
      "Yaşınızı hesaplayın\n",
      "Yaşınız : 22 \n"
     ]
    }
   ],
   "source": [
    "import datetime\n",
    "def dogumyili(yil):\n",
    "    bugun = datetime.datetime.now()\n",
    "    yas = bugun.year - yil \n",
    "    print(f\"Yaşınız : {yas} \" )\n",
    "print(\"Yaşınızı hesaplayın\") \n",
    "yil= int(input(\"Dogum yılınızı giriniz: \"))\n",
    "dogumyili(yil)\n",
    "\n",
    "    "
   ]
  },
  {
   "cell_type": "markdown",
   "metadata": {},
   "source": [
    "#### Ödev 4\n",
    "\n",
    "Doğum yılı ve isim bilgisi verilen fonksiyon kişinin emekli olup olmadığını söylesin.(Kişi 65 yaşında ise emekli olur.) Burada yaş hesabını yukarıdaki örnekteki fonksiyonu kullanarak yapsın.(Yani fonksiyon içinde fonksiyon kullanmanızı istiyorum :)) Kişi 65 yaşında ya da daha fazlaysa \"Emekli oldunuz\" yanıtını, 65 yaşından küçükse emekliliğine kaç yıl kaldığını da hesaplayarak \"(isim) emekliliğine (yıl) kaldı.\" yanıtını versin."
   ]
  },
  {
   "cell_type": "code",
   "execution_count": 14,
   "metadata": {},
   "outputs": [
    {
     "name": "stdout",
     "output_type": "stream",
     "text": [
      "elif, emekliliğinize 41 yıl kaldı.\n"
     ]
    }
   ],
   "source": [
    "import datetime\n",
    "\n",
    "# Yaşı hesaplayan fonksiyon\n",
    "def dogum_yasi_hesapla(dogum_yili):\n",
    "    bugun = datetime.datetime.now()\n",
    "    return bugun.year - dogum_yili\n",
    "# Emeklilik durumu belirleyen fonksiyon (içinde yaş fonksiyonu kullanılıyor)\n",
    "def emeklilik_durumu(isim, dogum_yili):\n",
    "    yas = dogum_yasi_hesapla(dogum_yili)\n",
    "    if yas >= 65:\n",
    "        print(f\"{isim}, emekli oldunuz.\")\n",
    "    else:\n",
    "        kalan = 65 - yas\n",
    "        print(f\"{isim}, emekliliğinize {kalan} yıl kaldı.\")\n",
    "        # Kullanıcıdan veri alıp fonksiyonu çalıştırma\n",
    "isim = input(\"Merhaba, isminiz nedir? \")\n",
    "dogum_yili = int(input(\"Doğum yılınızı giriniz: \"))\n",
    "emeklilik_durumu(isim, dogum_yili)"
   ]
  },
  {
   "cell_type": "code",
   "execution_count": null,
   "metadata": {},
   "outputs": [],
   "source": []
  }
 ],
 "metadata": {
  "kernelspec": {
   "display_name": "yeni_ortam",
   "language": "python",
   "name": "python3"
  },
  "language_info": {
   "codemirror_mode": {
    "name": "ipython",
    "version": 3
   },
   "file_extension": ".py",
   "mimetype": "text/x-python",
   "name": "python",
   "nbconvert_exporter": "python",
   "pygments_lexer": "ipython3",
   "version": "3.12.9"
  }
 },
 "nbformat": 4,
 "nbformat_minor": 2
}
