{
 "cells": [
  {
   "cell_type": "markdown",
   "id": "409f0f4a",
   "metadata": {},
   "source": [
    "**Ödev-1:** Kullanıcıdan maaş bilgisini istenir ve bu bilgiye göre maaşından ne kadar vergi kesileceğini hesaplanır. Kullanıcının geliri;\n",
    "\n",
    "1. 10000 ve altındaysa maaşından %5 kesinti olur.\n",
    "2. 25000 ve altındaysa maaşından %10 kesinti olur.\n",
    "3. 45000 ve altındaysa maaşından %25 kesinti olur.\n",
    "4. Diğer koşullarda %30 kesinti olur.\n",
    "\n",
    "Bu durumlara göre kullanıcının yeni maaşı yazdırılır."
   ]
  },
  {
   "cell_type": "code",
   "execution_count": null,
   "id": "5246e510",
   "metadata": {},
   "outputs": [],
   "source": [
    "maas = int(input(\"Lütfen maaşınızı giriniz.\"))\n",
    "print(\"Maaşınız: \",maas)\n",
    "if maas < 10000:\n",
    "    maas = maas - maas*5/100\n",
    "elif maas < 25000:\n",
    "        maas = maas - maas*10/100\n",
    "elif maas < 45000:\n",
    "        maas = maas - maas*25/100\n",
    "else :\n",
    "        maas = maas - maas*40/100\n",
    "print(\"Kesintili Hali:\",maas)"
   ]
  },
  {
   "cell_type": "markdown",
   "id": "f5fe8798",
   "metadata": {},
   "source": [
    "**Ödev-2:** Kullanıcıdan kullanıcı adı ve şifre oluşturmasını istenir. Şifrenin uzunluğu altı haneye ulaşmışsa hesabınız oluşturuldu mesajı alınır, altı haneden azsa altı haneli şifre oluşturması gerektiğinin mesajı alınır. *(Sadece koşul kullanılması yeterli.)*"
   ]
  },
  {
   "cell_type": "code",
   "execution_count": null,
   "id": "6acffe57",
   "metadata": {},
   "outputs": [
    {
     "name": "stdout",
     "output_type": "stream",
     "text": [
      "Lütfen 6 haneli bir şifre ile takrar deneyin\n"
     ]
    }
   ],
   "source": [
    "kullaniciad = input(\"Kullanıcı adınızı giriniz :\")\n",
    "sifre = input(\"Şifre oluşturunuz:(6 haneli) \")\n",
    "if len(sifre)==6:\n",
    "    print(\"Hesabınız oluşturuldu\")\n",
    "else:\n",
    "    print(\"Lütfen 6 haneli bir şifre ile takrar deneyin\")    "
   ]
  },
  {
   "cell_type": "markdown",
   "id": "aaccf11a",
   "metadata": {},
   "source": [
    "**Ödev-3:** Bir önceki örnek geliştirilir.\n",
    "\n",
    "1. Kullanıcı girdiği şifre 5 ve 10 hane arasında olmak zorunda.\n",
    "2. Eğer bu koşula uyuyorsa \"Hesabınız oluşturuldu.\" mesajı alır.\n",
    "3. Koşulu sağlamıyorsa \"Lütfen girdiniz şifre 5 haneden az 10 haneden fazla olmasın!\" uyarısı alır.\n",
    "4. Bunu oluştururken kullanıcı istediğimiz şartlarda şifre oluşturana kadar sormaya devam eder"
   ]
  },
  {
   "cell_type": "code",
   "execution_count": 1,
   "id": "8d8a4079",
   "metadata": {},
   "outputs": [
    {
     "name": "stdout",
     "output_type": "stream",
     "text": [
      "Lütfen Kurallara uygun şifre giriniz\n",
      "Hesabınız oluşturuldu\n"
     ]
    }
   ],
   "source": [
    "sayac = 1\n",
    "while sayac == 1:\n",
    "    kullaniciad = input(\"Kullanıcı adınızı giriniz :\")\n",
    "    sifre = input(\"Şifre oluşturunuz:\")\n",
    "    if len(sifre) > 5 and len(sifre)<10:\n",
    "        print(\"Hesabınız oluşturuldu\")\n",
    "        sayac = 0\n",
    "    else:\n",
    "        print(\"Lütfen Kurallara uygun şifre giriniz\")   \n",
    "         "
   ]
  },
  {
   "cell_type": "markdown",
   "id": "8ba81863",
   "metadata": {},
   "source": [
    "**Ödev-4:** Kullanıcıdan isim ve şifre isteyeceğiz ve şifre girişi için üç hak verilir.\n",
    "\n",
    "1. Eğer önceden tanımlı şifre ile kullanıcıdan gelen şifre aynıysa \"Giriş yapıldı.\" yazar.\n",
    "2. Şifre girişi yanlışsa \"Yanlış şifre girildi!\" uyarısı verilsin ve üç yanlış denemede program biter.\n",
    "3. Tercihe göre kalan hak bilgisi verilir."
   ]
  },
  {
   "cell_type": "code",
   "execution_count": 2,
   "id": "8f45ea0c",
   "metadata": {},
   "outputs": [
    {
     "name": "stdout",
     "output_type": "stream",
     "text": [
      "Giriş yapıldı\n"
     ]
    }
   ],
   "source": [
    "isim = \"admin\"\n",
    "sif = \"123456\"\n",
    "hak = 3\n",
    "kullaniciad = input(\"Kullanıcı adınızı giriniz :\")\n",
    "sifre = input(\"Şifre oluşturunuz:\")\n",
    "sayac =1\n",
    "while sayac ==1:\n",
    "    if kullaniciad == isim and sif == sifre:\n",
    "        print(\"Giriş yapıldı\") \n",
    "        sayac=0\n",
    "    elif len(sifre) > 5 and len(sifre)<10:\n",
    "        print(\"Başarılı bir şekilde üye olundu\")\n",
    "        sayac=0   \n",
    "    else:\n",
    "        for i in hak:\n",
    "            print(\"Yanlış şifre girişi yeniden deneyiniz\",i) \n",
    "\n",
    "\n",
    "\n"
   ]
  }
 ],
 "metadata": {
  "kernelspec": {
   "display_name": "yeni_ortam",
   "language": "python",
   "name": "python3"
  },
  "language_info": {
   "codemirror_mode": {
    "name": "ipython",
    "version": 3
   },
   "file_extension": ".py",
   "mimetype": "text/x-python",
   "name": "python",
   "nbconvert_exporter": "python",
   "pygments_lexer": "ipython3",
   "version": "3.12.9"
  }
 },
 "nbformat": 4,
 "nbformat_minor": 5
}
