{
 "cells": [
  {
   "cell_type": "code",
   "execution_count": 1,
   "id": "525ddff0",
   "metadata": {},
   "outputs": [],
   "source": [
    "import numpy as np\n"
   ]
  },
  {
   "cell_type": "code",
   "execution_count": 2,
   "id": "8957c07d",
   "metadata": {},
   "outputs": [
    {
     "name": "stdout",
     "output_type": "stream",
     "text": [
      "Array: [1 2 3 4 5]\n",
      "Boyut (ndim): 1\n",
      "Eleman sayısı (size): 5\n"
     ]
    }
   ],
   "source": [
    "# Tek boyutlu integer array\n",
    "arr1 = np.array([1, 2, 3, 4, 5], dtype=int)\n",
    "\n",
    "print(\"Array:\", arr1)\n",
    "print(\"Boyut (ndim):\", arr1.ndim)\n",
    "print(\"Eleman sayısı (size):\", arr1.size)"
   ]
  },
  {
   "cell_type": "code",
   "execution_count": 3,
   "id": "63ccb05c",
   "metadata": {},
   "outputs": [
    {
     "name": "stdout",
     "output_type": "stream",
     "text": [
      "\n",
      "İki boyutlu array:\n",
      "[[1 2 6 7]\n",
      " [4 3 9 5]]\n",
      "Boyut (ndim): 2\n",
      "Eleman sayısı (size): 8\n",
      "Şekil (shape): (2, 4)\n",
      "\n",
      "Üç boyutlu array:\n",
      "[[[ 7  5 14]\n",
      "  [21  8 11]]\n",
      "\n",
      " [[ 8  6 20]\n",
      "  [14  3  9]]]\n",
      "Boyut (ndim): 3\n",
      "Eleman sayısı (size): 12\n",
      "Şekil (shape): (2, 2, 3)\n"
     ]
    }
   ],
   "source": [
    "# İki boyutlu array\n",
    "arr2d = np.array([[1, 2, 6, 7],\n",
    "                  [4, 3, 9, 5]])\n",
    "\n",
    "print(\"\\nİki boyutlu array:\")\n",
    "print(arr2d)\n",
    "print(\"Boyut (ndim):\", arr2d.ndim)\n",
    "print(\"Eleman sayısı (size):\", arr2d.size)\n",
    "print(\"Şekil (shape):\", arr2d.shape)  # (satır, sütun)\n",
    "\n",
    "# Üç boyutlu array\n",
    "arr3d = np.array([[[7, 5, 14], [21, 8, 11]],\n",
    "                  [[8, 6, 20], [14, 3, 9]]])\n",
    "\n",
    "print(\"\\nÜç boyutlu array:\")\n",
    "print(arr3d)\n",
    "print(\"Boyut (ndim):\", arr3d.ndim)\n",
    "print(\"Eleman sayısı (size):\", arr3d.size)\n",
    "print(\"Şekil (shape):\", arr3d.shape)  # (blok, satır, sütun)"
   ]
  },
  {
   "cell_type": "code",
   "execution_count": 4,
   "id": "c820f10f",
   "metadata": {},
   "outputs": [
    {
     "name": "stdout",
     "output_type": "stream",
     "text": [
      "\n",
      "İki boyutlu arrayde 2 elemanı: 2\n",
      "İki boyutlu arrayde 7 elemanı: 7\n",
      "Üç boyutlu arrayde 9 elemanı: 9\n",
      "Üç boyutlu arrayde 5 elemanı: 5\n"
     ]
    }
   ],
   "source": [
    "print(\"\\nİki boyutlu arrayde 2 elemanı:\", arr2d[0, 1])\n",
    "print(\"İki boyutlu arrayde 7 elemanı:\", arr2d[0, 3])\n",
    "\n",
    "print(\"Üç boyutlu arrayde 9 elemanı:\", arr3d[1, 1, 2])\n",
    "print(\"Üç boyutlu arrayde 5 elemanı:\", arr3d[0, 0, 1])"
   ]
  },
  {
   "cell_type": "code",
   "execution_count": 5,
   "id": "c776cd60",
   "metadata": {},
   "outputs": [
    {
     "name": "stdout",
     "output_type": "stream",
     "text": [
      "\n",
      "İki boyutlu arrayde 2, 6 elemanları: [2 6]\n",
      "İki boyutlu arrayde 3, 9, 5 elemanları: [3 9 5]\n",
      "Üç boyutlu arrayde 21, 8, 11 elemanları: [21  8 11]\n",
      "Üç boyutlu arrayde 6, 20 elemanları: [ 6 20]\n"
     ]
    }
   ],
   "source": [
    "print(\"\\nİki boyutlu arrayde 2, 6 elemanları:\", arr2d[0, 1:3])\n",
    "print(\"İki boyutlu arrayde 3, 9, 5 elemanları:\", arr2d[1, 1:4])\n",
    "\n",
    "print(\"Üç boyutlu arrayde 21, 8, 11 elemanları:\", arr3d[0, 1, :])\n",
    "print(\"Üç boyutlu arrayde 6, 20 elemanları:\", arr3d[1, 0, 1:3])"
   ]
  },
  {
   "cell_type": "code",
   "execution_count": 6,
   "id": "ac6761e1",
   "metadata": {},
   "outputs": [
    {
     "name": "stdout",
     "output_type": "stream",
     "text": [
      "\n",
      "Sıfırlardan oluşan array:\n",
      " [[0 0 0]\n",
      " [0 0 0]\n",
      " [0 0 0]\n",
      " [0 0 0]\n",
      " [0 0 0]]\n",
      "\n",
      "Birlerden oluşan array:\n",
      " [[1 1 1]\n",
      " [1 1 1]\n",
      " [1 1 1]\n",
      " [1 1 1]\n",
      " [1 1 1]]\n",
      "\n",
      "Satır bazında birleştirilmiş array:\n",
      " [[0 0 0]\n",
      " [0 0 0]\n",
      " [0 0 0]\n",
      " [0 0 0]\n",
      " [0 0 0]\n",
      " [1 1 1]\n",
      " [1 1 1]\n",
      " [1 1 1]\n",
      " [1 1 1]\n",
      " [1 1 1]]\n",
      "\n",
      "Sütun bazında birleştirilmiş array:\n",
      " [[0 0 0 1 1 1]\n",
      " [0 0 0 1 1 1]\n",
      " [0 0 0 1 1 1]\n",
      " [0 0 0 1 1 1]\n",
      " [0 0 0 1 1 1]]\n"
     ]
    }
   ],
   "source": [
    "# 5 satır 3 sütun sıfırlardan oluşan array\n",
    "zeros_arr = np.zeros((5, 3), dtype=int)\n",
    "\n",
    "# 5 satır 3 sütun birlerden oluşan array\n",
    "ones_arr = np.ones((5, 3), dtype=int)\n",
    "\n",
    "print(\"\\nSıfırlardan oluşan array:\\n\", zeros_arr)\n",
    "print(\"\\nBirlerden oluşan array:\\n\", ones_arr)\n",
    "\n",
    "# Satır bazında birleştirme (alt alta)\n",
    "satir_birlesim = np.vstack((zeros_arr, ones_arr))\n",
    "print(\"\\nSatır bazında birleştirilmiş array:\\n\", satir_birlesim)\n",
    "\n",
    "# Sütun bazında birleştirme (yan yana)\n",
    "sutun_birlesim = np.hstack((zeros_arr, ones_arr))\n",
    "print(\"\\nSütun bazında birleştirilmiş array:\\n\", sutun_birlesim)"
   ]
  },
  {
   "cell_type": "code",
   "execution_count": null,
   "id": "3705e51d",
   "metadata": {},
   "outputs": [],
   "source": []
  }
 ],
 "metadata": {
  "kernelspec": {
   "display_name": "yeni_ortam",
   "language": "python",
   "name": "python3"
  },
  "language_info": {
   "codemirror_mode": {
    "name": "ipython",
    "version": 3
   },
   "file_extension": ".py",
   "mimetype": "text/x-python",
   "name": "python",
   "nbconvert_exporter": "python",
   "pygments_lexer": "ipython3",
   "version": "3.12.9"
  }
 },
 "nbformat": 4,
 "nbformat_minor": 5
}
